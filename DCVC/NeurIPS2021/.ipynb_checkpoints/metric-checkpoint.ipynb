{
 "cells": [
  {
   "cell_type": "code",
   "execution_count": null,
   "id": "6c308b32",
   "metadata": {},
   "outputs": [],
   "source": [
    "import json\n",
    "\n",
    "json_path = './test_result_psnr.json'\n",
    "with open(json_path, 'r') as f:\n",
    "    result = json.load(f)\n",
    "\n",
    "for ds_name  in result.keys():\n",
    "    for seq in result[ds_name].keys():\n",
    "        bpp, ewpsnr = [], []\n",
    "        for rate_idx in result[ds_name][seq].keys():\n",
    "            bpp.append(result[ds_name][seq][rate_idx]['ave_all_frame_bpp'])\n",
    "            ewpsnr.append(result[ds_name][seq][rate_idx]['ewpsnr'])\n",
    "        print(seq)\n",
    "        print(','.join(list(map(str, bpp))))\n",
    "        print(','.join(list(map(str, ewpsnr))))\n",
    "        print()"
   ]
  },
  {
   "cell_type": "code",
   "execution_count": 1,
   "id": "32eba455",
   "metadata": {},
   "outputs": [
    {
     "name": "stdout",
     "output_type": "stream",
     "text": [
      "BasketballDrive/BasketballDrive\n",
      "0.052709,0.065936,0.088647,0.119513\n",
      "37.6065,37.9549,38.23,38.428\n",
      "\n",
      "ParkScene/ParkScene\n",
      "0.085309,0.107431,0.146139,0.197068\n",
      "36.3882,37.0944,37.9529,38.5606\n",
      "\n",
      "Kimono1/Kimono1\n",
      "0.073738,0.092894,0.125004,0.166327\n",
      "39.5943,40.1214,40.5675,40.8437\n",
      "\n",
      "KristenAndSara/KristenAndSara\n",
      "0.027361,0.033273,0.044167,0.060075\n",
      "39.9936,40.5341,41.1006,41.5144\n",
      "\n",
      "FourPeople/FourPeople\n",
      "0.033051,0.038682,0.049708,0.06577\n",
      "39.168,39.7584,40.506,41.0606\n",
      "\n",
      "vidyo3/vidyo3\n",
      "0.032949,0.040846,0.055888,0.077217\n",
      "39.7639,40.3537,40.9354,41.2959\n",
      "\n"
     ]
    }
   ],
   "source": [
    "import json\n",
    "\n",
    "json_path = '/data/lqh/deepvideo/SalCodec/salcodec.json'\n",
    "with open(json_path, 'r') as f:\n",
    "    result = json.load(f)\n",
    "\n",
    "for ds_name  in result.keys():\n",
    "    for seq in result[ds_name].keys():\n",
    "        bpp, ewpsnr = [], []\n",
    "        for rate_idx in result[ds_name][seq].keys():\n",
    "            bpp.append(result[ds_name][seq][rate_idx]['ave_all_frame_bpp'])\n",
    "            ewpsnr.append(result[ds_name][seq][rate_idx]['ewpsnr'])\n",
    "        print(seq)\n",
    "        print(','.join(list(map(str, bpp))))\n",
    "        print(','.join(list(map(str, ewpsnr))))\n",
    "        print()"
   ]
  },
  {
   "cell_type": "code",
   "execution_count": 2,
   "id": "146ecf0a",
   "metadata": {},
   "outputs": [
    {
     "name": "stdout",
     "output_type": "stream",
     "text": [
      "BasketballDrive/BasketballDrive\n",
      "0.027333573831452265,0.040023225949456294,0.05842106520301766,0.08991422851880392\n",
      "35.6138,36.6075,37.4236,38.0011\n",
      "\n",
      "ParkScene/ParkScene\n",
      "0.035663883294910194,0.05655330815869901,0.09148913290765551,0.14680735025968816\n",
      "33.2568,34.7269,36.2204,37.468\n",
      "\n",
      "Kimono1/Kimono1\n",
      "0.03796885490624441,0.05505522437807586,0.08068043597870403,0.1171589141090711\n",
      "36.5847,37.8437,39.0529,40.0174\n",
      "\n",
      "KristenAndSara/KristenAndSara\n",
      "0.01482368096300034,0.021620315540525497,0.030908451415598392,0.04883015146196792\n",
      "37.0901,38.7107,39.968,40.6115\n",
      "\n",
      "FourPeople/FourPeople\n",
      "0.018498372377573766,0.02741117819748593,0.03797449777890561,0.05858450576832348\n",
      "36.2374,37.8643,39.3261,40.0387\n",
      "\n",
      "vidyo3/vidyo3\n",
      "0.017442687701744338,0.026052461934247702,0.037237579400905156,0.05883421451982224\n",
      "36.588,38.214,39.5631,40.334\n",
      "\n"
     ]
    }
   ],
   "source": [
    "import json\n",
    "\n",
    "json_path = '/data/lqh/deepvideo/DCVC/NeurIPS2021/DCVC_result_psnr.json'\n",
    "with open(json_path, 'r') as f:\n",
    "    result = json.load(f)\n",
    "\n",
    "for ds_name  in result.keys():\n",
    "    for seq in result[ds_name].keys():\n",
    "        bpp, ewpsnr = [], []\n",
    "        for rate_idx in result[ds_name][seq].keys():\n",
    "            bpp.append(result[ds_name][seq][rate_idx]['ave_all_frame_bpp'])\n",
    "            ewpsnr.append(result[ds_name][seq][rate_idx]['ewpsnr'])\n",
    "        print(seq)\n",
    "        print(','.join(list(map(str, bpp))))\n",
    "        print(','.join(list(map(str, ewpsnr))))\n",
    "        print()"
   ]
  },
  {
   "cell_type": "code",
   "execution_count": null,
   "id": "d6f4273d",
   "metadata": {},
   "outputs": [],
   "source": []
  }
 ],
 "metadata": {
  "kernelspec": {
   "display_name": "Python 3 (ipykernel)",
   "language": "python",
   "name": "python3"
  },
  "language_info": {
   "codemirror_mode": {
    "name": "ipython",
    "version": 3
   },
   "file_extension": ".py",
   "mimetype": "text/x-python",
   "name": "python",
   "nbconvert_exporter": "python",
   "pygments_lexer": "ipython3",
   "version": "3.8.13"
  }
 },
 "nbformat": 4,
 "nbformat_minor": 5
}
